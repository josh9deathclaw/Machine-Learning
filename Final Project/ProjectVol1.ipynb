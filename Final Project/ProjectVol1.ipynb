{
 "cells": [
  {
   "cell_type": "code",
   "execution_count": 69,
   "id": "19bf18db-a2ef-4bc8-b8e5-71e17eceadd4",
   "metadata": {},
   "outputs": [],
   "source": [
    "import pandas as pd\n",
    "import tensorflow as tf\n",
    "import sklearn\n",
    "import numpy as np\n",
    "import matplotlib.pyplot as plt\n",
    "%matplotlib inline\n",
    "import os\n",
    "import glob\n",
    "#from glob import glob\n",
    "from sklearn.utils import shuffle\n",
    "from PIL import Image"
   ]
  },
  {
   "cell_type": "markdown",
   "id": "c9ab20ef-1ccd-4746-8648-e68a7f5bbfa2",
   "metadata": {},
   "source": [
    "Preprocess Data"
   ]
  },
  {
   "cell_type": "code",
   "execution_count": 70,
   "id": "ee7ea6d7-bdb4-47a0-a21a-526942730720",
   "metadata": {},
   "outputs": [
    {
     "name": "stdout",
     "output_type": "stream",
     "text": [
      "Image Dimensions (Width, Height, Channels): 480 720 1\n"
     ]
    }
   ],
   "source": [
    "#get the shape of one of the images\n",
    "image_path = r\"C:\\Users\\user\\Anaconda\\Programs\\image_data\\train\\normal\\KEMP_IMG_DATA_1.png\"\n",
    "img = Image.open(image_path)\n",
    "img_width, img_height = img.size\n",
    "img_channels = 3 if img.mode == 'RGB' else 1\n",
    "print(\"Image Dimensions (Width, Height, Channels):\", img_width, img_height, img_channels)"
   ]
  },
  {
   "cell_type": "markdown",
   "id": "e809678a-4112-432a-b7ca-578a9cf9a7f8",
   "metadata": {},
   "source": [
    "Image Dataset Creation"
   ]
  },
  {
   "cell_type": "code",
   "execution_count": 71,
   "id": "3ddfbca8-398a-4683-98b8-e9e0957e448c",
   "metadata": {},
   "outputs": [
    {
     "name": "stdout",
     "output_type": "stream",
     "text": [
      "Director Path : C:\\Users\\user\\Anaconda\\Programs\\image_data\n",
      "Normal Path: C:\\Users\\user\\Anaconda\\Programs\\image_data\\train\\normal\\*png\n",
      "Error Path: C:\\Users\\user\\Anaconda\\Programs\\image_data\\train\\error\\*png\n",
      "normal:  1102\n",
      "error:  59\n",
      "Normal Path: C:\\Users\\user\\Anaconda\\Programs\\image_data\\test\\normal\\*png\n",
      "Error Path: C:\\Users\\user\\Anaconda\\Programs\\image_data\\test\\error\\*png\n",
      "normal:  276\n",
      "error:  15\n"
     ]
    },
    {
     "ename": "UnboundLocalError",
     "evalue": "local variable 'train_df' referenced before assignment",
     "output_type": "error",
     "traceback": [
      "\u001b[1;31m---------------------------------------------------------------------------\u001b[0m",
      "\u001b[1;31mUnboundLocalError\u001b[0m                         Traceback (most recent call last)",
      "Cell \u001b[1;32mIn[71], line 66\u001b[0m\n\u001b[0;32m     63\u001b[0m \u001b[38;5;28mprint\u001b[39m(\u001b[38;5;124m\"\u001b[39m\u001b[38;5;124mDirector Path :\u001b[39m\u001b[38;5;124m\"\u001b[39m, dir_path)\n\u001b[0;32m     64\u001b[0m aic \u001b[38;5;241m=\u001b[39m ImageClassification(path1\u001b[38;5;241m=\u001b[39mdir_path)\n\u001b[1;32m---> 66\u001b[0m X, Y \u001b[38;5;241m=\u001b[39m \u001b[43maic\u001b[49m\u001b[38;5;241;43m.\u001b[39;49m\u001b[43mcreate_x_and_y\u001b[49m\u001b[43m(\u001b[49m\u001b[43m)\u001b[49m\n",
      "Cell \u001b[1;32mIn[71], line 43\u001b[0m, in \u001b[0;36mImageClassification.create_x_and_y\u001b[1;34m(self)\u001b[0m\n\u001b[0;32m     39\u001b[0m \u001b[38;5;28;01mdef\u001b[39;00m \u001b[38;5;21mcreate_x_and_y\u001b[39m(\u001b[38;5;28mself\u001b[39m):\n\u001b[0;32m     40\u001b[0m     \u001b[38;5;66;03m#need to define preprocessing\u001b[39;00m\n\u001b[0;32m     41\u001b[0m     \u001b[38;5;66;03m#calls preprocessing method for each image path in train_df\u001b[39;00m\n\u001b[0;32m     42\u001b[0m     \u001b[38;5;66;03m#creates an array 'X' of preprocessed images\u001b[39;00m\n\u001b[1;32m---> 43\u001b[0m     X \u001b[38;5;241m=\u001b[39m np\u001b[38;5;241m.\u001b[39marray([img_preprocess(p) \u001b[38;5;28;01mfor\u001b[39;00m p \u001b[38;5;129;01min\u001b[39;00m \u001b[38;5;28mself\u001b[39m\u001b[38;5;241m.\u001b[39mtrain_df\u001b[38;5;241m.\u001b[39mname\u001b[38;5;241m.\u001b[39mvalues])\n\u001b[0;32m     44\u001b[0m     \u001b[38;5;66;03m#retrieve the outcome column values from train_df\u001b[39;00m\n\u001b[0;32m     45\u001b[0m     Y \u001b[38;5;241m=\u001b[39m \u001b[38;5;28mself\u001b[39m\u001b[38;5;241m.\u001b[39mtrain_df\u001b[38;5;241m.\u001b[39moutcome\u001b[38;5;241m.\u001b[39mvalues\n",
      "Cell \u001b[1;32mIn[71], line 43\u001b[0m, in \u001b[0;36m<listcomp>\u001b[1;34m(.0)\u001b[0m\n\u001b[0;32m     39\u001b[0m \u001b[38;5;28;01mdef\u001b[39;00m \u001b[38;5;21mcreate_x_and_y\u001b[39m(\u001b[38;5;28mself\u001b[39m):\n\u001b[0;32m     40\u001b[0m     \u001b[38;5;66;03m#need to define preprocessing\u001b[39;00m\n\u001b[0;32m     41\u001b[0m     \u001b[38;5;66;03m#calls preprocessing method for each image path in train_df\u001b[39;00m\n\u001b[0;32m     42\u001b[0m     \u001b[38;5;66;03m#creates an array 'X' of preprocessed images\u001b[39;00m\n\u001b[1;32m---> 43\u001b[0m     X \u001b[38;5;241m=\u001b[39m np\u001b[38;5;241m.\u001b[39marray([\u001b[43mimg_preprocess\u001b[49m\u001b[43m(\u001b[49m\u001b[43mp\u001b[49m\u001b[43m)\u001b[49m \u001b[38;5;28;01mfor\u001b[39;00m p \u001b[38;5;129;01min\u001b[39;00m \u001b[38;5;28mself\u001b[39m\u001b[38;5;241m.\u001b[39mtrain_df\u001b[38;5;241m.\u001b[39mname\u001b[38;5;241m.\u001b[39mvalues])\n\u001b[0;32m     44\u001b[0m     \u001b[38;5;66;03m#retrieve the outcome column values from train_df\u001b[39;00m\n\u001b[0;32m     45\u001b[0m     Y \u001b[38;5;241m=\u001b[39m \u001b[38;5;28mself\u001b[39m\u001b[38;5;241m.\u001b[39mtrain_df\u001b[38;5;241m.\u001b[39moutcome\u001b[38;5;241m.\u001b[39mvalues\n",
      "Cell \u001b[1;32mIn[62], line 3\u001b[0m, in \u001b[0;36mimg_preprocess\u001b[1;34m(image_path)\u001b[0m\n\u001b[0;32m      2\u001b[0m \u001b[38;5;28;01mdef\u001b[39;00m \u001b[38;5;21mimg_preprocess\u001b[39m(image_path):\n\u001b[1;32m----> 3\u001b[0m     train_df \u001b[38;5;241m=\u001b[39m \u001b[43mtrain_df\u001b[49m\u001b[38;5;241m.\u001b[39mreshape(\u001b[38;5;241m1\u001b[39m, \u001b[38;5;241m480\u001b[39m, \u001b[38;5;241m720\u001b[39m, \u001b[38;5;241m1\u001b[39m)\n\u001b[0;32m      4\u001b[0m     test_df \u001b[38;5;241m=\u001b[39m test_df\u001b[38;5;241m.\u001b[39mreshape(\u001b[38;5;241m1\u001b[39m, \u001b[38;5;241m480\u001b[39m, \u001b[38;5;241m720\u001b[39m, \u001b[38;5;241m1\u001b[39m)\n\u001b[0;32m      5\u001b[0m     train_df\u001b[38;5;241m.\u001b[39mshape, test_df\u001b[38;5;241m.\u001b[39mshape\n",
      "\u001b[1;31mUnboundLocalError\u001b[0m: local variable 'train_df' referenced before assignment"
     ]
    }
   ],
   "source": [
    "class ImageClassification:\n",
    "    def __init__(self,path1): #path1 represents the directory to the image dataset\n",
    "        #creating dataframes (df) for the train and test sets\n",
    "        self.train_df = self._create_df(path1, \"train\")\n",
    "        self.test_df = self._create_df(path1, \"test\")\n",
    "\n",
    "    #independent utilitity method\n",
    "    @staticmethod\n",
    "    #create dataframe with image path and the outcome (either normal or error)\n",
    "    #construct the dataframes based on the paths to normal and error images found in the directory in path2\n",
    "    def _create_df(path1, path2):\n",
    "        #glob.glob is usedd to find all PNG files in the directories\n",
    "        #files1 = glob.glob(os.path.join(path1+path2, \"normal/*.png\"))\n",
    "        #files2 = glob.glob(os.path.join(path1+ path2, \"error/*.png\"))\n",
    "        normal_path = os.path.join(path1, path2, \"normal\", \"*png\")\n",
    "        error_path = os.path.join(path1, path2, \"error\", \"*png\")\n",
    "        files1 = glob.glob(normal_path)\n",
    "        files2 = glob.glob(error_path)\n",
    "        print(\"Normal Path:\", normal_path)\n",
    "        print(\"Error Path:\", error_path)\n",
    "        #prints the number of normal and error images found\n",
    "        print(\"normal: \", len(files1))\n",
    "        print(\"error: \", len(files2))\n",
    "            \n",
    "        #constructs two data frames, df_n = error, df_p = normal\n",
    "        df_n = pd.DataFrame()\n",
    "        df_p = pd.DataFrame()\n",
    "        df_n[\"name\"] = [x for x in files2]\n",
    "        df_n[\"outcome\"] = 0.0\n",
    "        df_p[\"name\"] = [x for x in files1]\n",
    "        df_p[\"outcome\"] = 1.0\n",
    "        #concatenates and shuffles the dataframes into a single dataframe 'df'\n",
    "        df = pd.concat([df_n, df_p], axis=0, ignore_index=True)\n",
    "        df = shuffle(df)\n",
    "        return df\n",
    "\n",
    "    #seperate X and Y to train your model\n",
    "    #operates an instance of class self\n",
    "    def create_x_and_y(self):\n",
    "        #need to define preprocessing\n",
    "        #calls preprocessing method for each image path in train_df\n",
    "        #creates an array 'X' of preprocessed images\n",
    "        X = np.array([img_preprocess(p) for p in self.train_df.name.values])\n",
    "        #retrieve the outcome column values from train_df\n",
    "        Y = self.train_df.outcome.values\n",
    "        return X, Y\n",
    "\n",
    "    @staticmethod\n",
    "    def img_preprocess(image_path, target_size=(480, 720)):\n",
    "        #load image\n",
    "        img = Image.open(image_path)\n",
    "        #resize image\n",
    "        img = img.resize(target_size)\n",
    "        #convert to numpy array and reshape to 480, 720, 1\n",
    "        img_array = np.array(img).reshape(target_size[0], target_size[1], 1)\n",
    "        #convert to float32 and normalise value to be between 0 and 1\n",
    "        img_array = img_array.astype('float32') / 255.0\n",
    "        return img_array\n",
    "\n",
    "#get current path of file\n",
    "dir_path = os.path.join(os.getcwd(), \"image_data\")\n",
    "#dir_path = r\"C:\\Users\\user\\Anaconda\\Programs\\Swinburne\\archive\\image_data\"\n",
    "print(\"Director Path :\", dir_path)\n",
    "aic = ImageClassification(path1=dir_path)\n",
    "\n",
    "X, Y = aic.create_x_and_y()"
   ]
  },
  {
   "cell_type": "code",
   "execution_count": null,
   "id": "10a4381c-b4c6-45ef-b55e-c96003db2797",
   "metadata": {},
   "outputs": [],
   "source": []
  }
 ],
 "metadata": {
  "kernelspec": {
   "display_name": "Josh",
   "language": "python",
   "name": "practice"
  },
  "language_info": {
   "codemirror_mode": {
    "name": "ipython",
    "version": 3
   },
   "file_extension": ".py",
   "mimetype": "text/x-python",
   "name": "python",
   "nbconvert_exporter": "python",
   "pygments_lexer": "ipython3",
   "version": "3.10.13"
  }
 },
 "nbformat": 4,
 "nbformat_minor": 5
}
