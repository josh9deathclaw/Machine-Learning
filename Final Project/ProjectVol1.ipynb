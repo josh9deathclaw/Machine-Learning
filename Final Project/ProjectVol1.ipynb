{
 "cells": [
  {
   "cell_type": "code",
   "execution_count": 64,
   "id": "19bf18db-a2ef-4bc8-b8e5-71e17eceadd4",
   "metadata": {},
   "outputs": [],
   "source": [
    "import pandas as pd\n",
    "import tensorflow as tf\n",
    "import sklearn\n",
    "import numpy as np\n",
    "import matplotlib.pyplot as plt\n",
    "%matplotlib inline\n",
    "import os\n",
    "import glob\n",
    "#from glob import glob\n",
    "from sklearn.utils import shuffle\n",
    "from PIL import Image\n",
    "\n",
    "from tensorflow.keras.models import Sequential\n",
    "from tensorflow.keras.layers import Conv2D, MaxPooling2D, Flatten, Dense\n",
    "from tensorflow.keras.metrics import Precision, Recall, AUC"
   ]
  },
  {
   "cell_type": "markdown",
   "id": "c9ab20ef-1ccd-4746-8648-e68a7f5bbfa2",
   "metadata": {},
   "source": [
    "Preprocess Data"
   ]
  },
  {
   "cell_type": "code",
   "execution_count": 65,
   "id": "ee7ea6d7-bdb4-47a0-a21a-526942730720",
   "metadata": {},
   "outputs": [
    {
     "name": "stdout",
     "output_type": "stream",
     "text": [
      "Image Dimensions (Width, Height, Channels): 480 720 1\n"
     ]
    }
   ],
   "source": [
    "#get the shape of one of the images\n",
    "image_path = r\"C:\\Users\\user\\Anaconda\\Programs\\image_data\\train\\normal\\KEMP_IMG_DATA_1.png\"\n",
    "img = Image.open(image_path)\n",
    "img_width, img_height = img.size\n",
    "img_channels = 3 if img.mode == 'RGB' else 1\n",
    "print(\"Image Dimensions (Width, Height, Channels):\", img_width, img_height, img_channels)"
   ]
  },
  {
   "cell_type": "markdown",
   "id": "e809678a-4112-432a-b7ca-578a9cf9a7f8",
   "metadata": {},
   "source": [
    "Image Dataset Creation"
   ]
  },
  {
   "cell_type": "code",
   "execution_count": 67,
   "id": "3ddfbca8-398a-4683-98b8-e9e0957e448c",
   "metadata": {},
   "outputs": [
    {
     "name": "stdout",
     "output_type": "stream",
     "text": [
      "Director Path : C:\\Users\\user\\Anaconda\\Programs\\image_data\n",
      "Normal Path: C:\\Users\\user\\Anaconda\\Programs\\image_data\\train\\normal\\*png\n",
      "Error Path: C:\\Users\\user\\Anaconda\\Programs\\image_data\\train\\error\\*png\n",
      "normal:  1102\n",
      "error:  59\n",
      "Normal Path: C:\\Users\\user\\Anaconda\\Programs\\image_data\\test\\normal\\*png\n",
      "Error Path: C:\\Users\\user\\Anaconda\\Programs\\image_data\\test\\error\\*png\n",
      "normal:  276\n",
      "error:  15\n",
      "Shape of X: (1161, 256, 256, 1)\n"
     ]
    }
   ],
   "source": [
    "class ImageClassification:\n",
    "    def __init__(self,path1): #path1 represents the directory to the image dataset\n",
    "        #creating dataframes (df) for the train and test sets\n",
    "        self.train_df = self._create_df(path1, \"train\")\n",
    "        self.test_df = self._create_df(path1, \"test\")\n",
    "\n",
    "    #independent utilitity method\n",
    "    @staticmethod\n",
    "    #create dataframe with image path and the outcome (either normal or error)\n",
    "    #construct the dataframes based on the paths to normal and error images found in the directory in path2\n",
    "    def _create_df(path1, path2):\n",
    "        #glob.glob is usedd to find all PNG files in the directories\n",
    "        #files1 = glob.glob(os.path.join(path1+path2, \"normal/*.png\"))\n",
    "        #files2 = glob.glob(os.path.join(path1+ path2, \"error/*.png\"))\n",
    "        normal_path = os.path.join(path1, path2, \"normal\", \"*png\")\n",
    "        error_path = os.path.join(path1, path2, \"error\", \"*png\")\n",
    "        files1 = glob.glob(normal_path)\n",
    "        files2 = glob.glob(error_path)\n",
    "        print(\"Normal Path:\", normal_path)\n",
    "        print(\"Error Path:\", error_path)\n",
    "        #prints the number of normal and error images found\n",
    "        print(\"normal: \", len(files1))\n",
    "        print(\"error: \", len(files2))\n",
    "            \n",
    "        #constructs two data frames, df_n = error, df_p = normal\n",
    "        df_n = pd.DataFrame()\n",
    "        df_p = pd.DataFrame()\n",
    "        df_n[\"name\"] = [x for x in files2]\n",
    "        df_n[\"outcome\"] = 0.0\n",
    "        df_p[\"name\"] = [x for x in files1]\n",
    "        df_p[\"outcome\"] = 1.0\n",
    "        #concatenates and shuffles the dataframes into a single dataframe 'df'\n",
    "        df = pd.concat([df_n, df_p], axis=0, ignore_index=True)\n",
    "        df = shuffle(df)\n",
    "        return df\n",
    "\n",
    "    #seperate X and Y to train your model\n",
    "    #operates an instance of class self\n",
    "    def create_x_and_y(self):\n",
    "        #calls preprocessing method for each image path in train_df\n",
    "        #creates an array 'X' of preprocessed images\n",
    "        X = np.array([self.img_preprocess(p) for p in self.train_df.name.values])\n",
    "        #retrieve the outcome column values from train_df\n",
    "        Y = self.train_df.outcome.values\n",
    "\n",
    "        print(\"Shape of X:\", X.shape)\n",
    "        return X, Y\n",
    "\n",
    "    def test_x_and_y(self):\n",
    "        #get the images in the test data\n",
    "        X1 = np.array([self.img_preprocess(p) for p in self.test_df.name.values])\n",
    "        #get the labels 0 and 1\n",
    "        Y1 = self.test_df.outcome.values\n",
    "\n",
    "        return X1, Y1\n",
    "\n",
    "    @staticmethod\n",
    "    def img_preprocess(image_path, target_size=(256, 256)):\n",
    "        #load image\n",
    "        img = Image.open(image_path)\n",
    "        #convert to greyscale\n",
    "        img = img.convert('L')\n",
    "        #resize image\n",
    "        img = img.resize(target_size)\n",
    "        #convert to numpy array and reshape to 256, 256, 1\n",
    "        img_array = np.array(img).reshape(target_size[0], target_size[1], 1)\n",
    "        #convert to float32 and normalise value to be between 0 and 1\n",
    "        img_array = img_array.astype('float32') / 255.0\n",
    "        return img_array\n",
    "\n",
    "#get current path of file\n",
    "dir_path = os.path.join(os.getcwd(), \"image_data\")\n",
    "#dir_path = r\"C:\\Users\\user\\Anaconda\\Programs\\Swinburne\\archive\\image_data\"\n",
    "print(\"Director Path :\", dir_path)\n",
    "aic = ImageClassification(path1=dir_path)\n",
    "\n",
    "X, Y = aic.create_x_and_y()\n",
    "X1, Y1 = aic.test_x_and_y()"
   ]
  },
  {
   "cell_type": "markdown",
   "id": "9753169f-b37e-419d-b7dd-61a49010eed3",
   "metadata": {},
   "source": [
    "Model Creation"
   ]
  },
  {
   "cell_type": "code",
   "execution_count": 68,
   "id": "3f67f2af-faa9-454f-9cab-b7bd898954cd",
   "metadata": {},
   "outputs": [],
   "source": [
    "#make variables\n",
    "epochs = 20 #number of times training is done\n",
    "input_shape = (256, 256, 1)\n",
    "batch_size = 64"
   ]
  },
  {
   "cell_type": "code",
   "execution_count": 69,
   "id": "711790bd-c879-4f2f-93a4-47a82c4ac9da",
   "metadata": {},
   "outputs": [],
   "source": [
    "pipe_model = Sequential()\n",
    "#first create convulutional layer\n",
    "pipe_model.add(Conv2D(filters=32, kernel_size=(3, 3), activation='relu', input_shape=(256,256,1), padding='same'))\n",
    "#than add another pooling layer\n",
    "pipe_model.add(MaxPooling2D((2,2), padding='same'))\n",
    "#add 2nd convulutional layer\n",
    "pipe_model.add(Conv2D(filters=64, kernel_size=(3, 3), activation='relu', padding='same'))\n",
    "pipe_model.add(MaxPooling2D((2,2), padding='same'))\n",
    "#flatten the vector before the fully connected layer\n",
    "pipe_model.add(Flatten())\n",
    "#dense layer (fcl)\n",
    "pipe_model.add(Dense(1, activation='sigmoid'))\n",
    "\n",
    "#compile the model, use binary cross entropy for the loss function and the adam optimizer\n",
    "pipe_model.compile(optimizer='adam', loss='binary_crossentropy',metrics=['accuracy', Precision(), Recall(), AUC()])"
   ]
  },
  {
   "cell_type": "code",
   "execution_count": 70,
   "id": "8a79bac8-b33f-405e-9c82-328ea33cd2fa",
   "metadata": {},
   "outputs": [
    {
     "name": "stdout",
     "output_type": "stream",
     "text": [
      "Model: \"sequential_6\"\n",
      "_________________________________________________________________\n",
      " Layer (type)                Output Shape              Param #   \n",
      "=================================================================\n",
      " conv2d_11 (Conv2D)          (None, 256, 256, 32)      320       \n",
      "                                                                 \n",
      " max_pooling2d_11 (MaxPoolin  (None, 128, 128, 32)     0         \n",
      " g2D)                                                            \n",
      "                                                                 \n",
      " conv2d_12 (Conv2D)          (None, 128, 128, 64)      18496     \n",
      "                                                                 \n",
      " max_pooling2d_12 (MaxPoolin  (None, 64, 64, 64)       0         \n",
      " g2D)                                                            \n",
      "                                                                 \n",
      " flatten_5 (Flatten)         (None, 262144)            0         \n",
      "                                                                 \n",
      " dense_5 (Dense)             (None, 1)                 262145    \n",
      "                                                                 \n",
      "=================================================================\n",
      "Total params: 280,961\n",
      "Trainable params: 280,961\n",
      "Non-trainable params: 0\n",
      "_________________________________________________________________\n"
     ]
    }
   ],
   "source": [
    "pipe_model.summary()"
   ]
  },
  {
   "cell_type": "code",
   "execution_count": 71,
   "id": "72b54bf2-5a23-480d-81a4-ba611e8f9b8c",
   "metadata": {},
   "outputs": [
    {
     "name": "stdout",
     "output_type": "stream",
     "text": [
      "Shape of X: (1161, 256, 256, 1)\n",
      "Epoch 1/10\n",
      "29/29 [==============================] - 20s 660ms/step - loss: 0.2009 - accuracy: 0.9213 - precision_5: 0.9499 - recall_5: 0.9682 - auc_5: 0.6944 - val_loss: 0.0966 - val_accuracy: 0.9614 - val_precision_5: 0.9609 - val_recall_5: 1.0000 - val_auc_5: 0.9966\n",
      "Epoch 2/10\n",
      "29/29 [==============================] - 18s 627ms/step - loss: 0.0887 - accuracy: 0.9741 - precision_5: 0.9745 - recall_5: 0.9989 - auc_5: 0.9361 - val_loss: 0.0444 - val_accuracy: 0.9957 - val_precision_5: 0.9955 - val_recall_5: 1.0000 - val_auc_5: 1.0000\n",
      "Epoch 3/10\n",
      "29/29 [==============================] - 18s 618ms/step - loss: 0.0254 - accuracy: 0.9935 - precision_5: 0.9932 - recall_5: 1.0000 - auc_5: 0.9974 - val_loss: 0.0127 - val_accuracy: 0.9957 - val_precision_5: 0.9955 - val_recall_5: 1.0000 - val_auc_5: 1.0000\n",
      "Epoch 4/10\n",
      "29/29 [==============================] - 18s 617ms/step - loss: 0.0142 - accuracy: 0.9968 - precision_5: 0.9966 - recall_5: 1.0000 - auc_5: 1.0000 - val_loss: 0.0108 - val_accuracy: 0.9957 - val_precision_5: 0.9955 - val_recall_5: 1.0000 - val_auc_5: 1.0000\n",
      "Epoch 5/10\n",
      "29/29 [==============================] - 18s 618ms/step - loss: 0.0059 - accuracy: 0.9989 - precision_5: 0.9989 - recall_5: 1.0000 - auc_5: 1.0000 - val_loss: 0.0070 - val_accuracy: 1.0000 - val_precision_5: 1.0000 - val_recall_5: 1.0000 - val_auc_5: 1.0000\n",
      "Epoch 6/10\n",
      "29/29 [==============================] - 18s 611ms/step - loss: 0.0023 - accuracy: 1.0000 - precision_5: 1.0000 - recall_5: 1.0000 - auc_5: 1.0000 - val_loss: 0.0047 - val_accuracy: 0.9957 - val_precision_5: 0.9955 - val_recall_5: 1.0000 - val_auc_5: 1.0000\n",
      "Epoch 7/10\n",
      "29/29 [==============================] - 18s 607ms/step - loss: 9.4543e-04 - accuracy: 1.0000 - precision_5: 1.0000 - recall_5: 1.0000 - auc_5: 1.0000 - val_loss: 0.0069 - val_accuracy: 0.9957 - val_precision_5: 0.9955 - val_recall_5: 1.0000 - val_auc_5: 1.0000\n",
      "Epoch 8/10\n",
      "29/29 [==============================] - 18s 622ms/step - loss: 6.4655e-04 - accuracy: 1.0000 - precision_5: 1.0000 - recall_5: 1.0000 - auc_5: 1.0000 - val_loss: 0.0027 - val_accuracy: 1.0000 - val_precision_5: 1.0000 - val_recall_5: 1.0000 - val_auc_5: 1.0000\n",
      "Epoch 9/10\n",
      "29/29 [==============================] - 18s 611ms/step - loss: 6.1448e-04 - accuracy: 1.0000 - precision_5: 1.0000 - recall_5: 1.0000 - auc_5: 1.0000 - val_loss: 0.0050 - val_accuracy: 0.9957 - val_precision_5: 0.9955 - val_recall_5: 1.0000 - val_auc_5: 1.0000\n",
      "Epoch 10/10\n",
      "29/29 [==============================] - 18s 629ms/step - loss: 3.0743e-04 - accuracy: 1.0000 - precision_5: 1.0000 - recall_5: 1.0000 - auc_5: 1.0000 - val_loss: 0.0031 - val_accuracy: 1.0000 - val_precision_5: 1.0000 - val_recall_5: 1.0000 - val_auc_5: 1.0000\n"
     ]
    }
   ],
   "source": [
    "X_train, Y_train = aic.create_x_and_y()\n",
    "\n",
    "history = pipe_model.fit(X_train, Y_train,\n",
    "                         epochs=10,  # Number of training epochs\n",
    "                         batch_size=32,  # Number of samples per gradient update\n",
    "                         validation_split=0.2)  # Fraction of training data to be used as validation data"
   ]
  },
  {
   "cell_type": "code",
   "execution_count": 73,
   "id": "1faad7af-9fff-4cc6-bc23-bc4c07f3b7da",
   "metadata": {},
   "outputs": [
    {
     "name": "stdout",
     "output_type": "stream",
     "text": [
      "Test loss: 0.0026408066041767597\n",
      "Test accuracy: 1.0\n",
      "Test precision: 1.0\n",
      "Test recall: 1.0\n",
      "Test AUC: 1.0\n"
     ]
    }
   ],
   "source": [
    "test_X, test_Y = aic.test_x_and_y()\n",
    "\n",
    "test_eval = pipe_model.evaluate(test_X, test_Y, verbose=0)\n",
    "print('Test loss:', test_eval[0])\n",
    "print('Test accuracy:', test_eval[1])\n",
    "print('Test precision:', test_eval[2])\n",
    "print('Test recall:', test_eval[3])\n",
    "print('Test AUC:', test_eval[4])"
   ]
  },
  {
   "cell_type": "code",
   "execution_count": null,
   "id": "e582090c-bd46-4431-a8fb-b0025575e2a5",
   "metadata": {},
   "outputs": [],
   "source": []
  }
 ],
 "metadata": {
  "kernelspec": {
   "display_name": "Josh",
   "language": "python",
   "name": "practice"
  },
  "language_info": {
   "codemirror_mode": {
    "name": "ipython",
    "version": 3
   },
   "file_extension": ".py",
   "mimetype": "text/x-python",
   "name": "python",
   "nbconvert_exporter": "python",
   "pygments_lexer": "ipython3",
   "version": "3.10.13"
  }
 },
 "nbformat": 4,
 "nbformat_minor": 5
}
