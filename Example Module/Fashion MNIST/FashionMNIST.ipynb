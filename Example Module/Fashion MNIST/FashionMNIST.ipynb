{
 "cells": [
  {
   "cell_type": "code",
   "execution_count": 79,
   "id": "2b48a7eb-7285-4d5d-85c9-b73fdf99c395",
   "metadata": {},
   "outputs": [],
   "source": [
    "import tensorflow as tf\n",
    "from sklearn import model_selection\n",
    "import numpy as np\n",
    "import matplotlib.pyplot as plt\n",
    "%matplotlib inline\n",
    "\n",
    "from tensorflow.keras.models import Sequential\n",
    "from tensorflow.keras.layers import Conv2D, MaxPooling2D, Flatten, Dense, LeakyReLU\n",
    "from tensorflow.keras.losses import categorical_crossentropy\n",
    "from tensorflow.keras.optimizers import Adam"
   ]
  },
  {
   "cell_type": "markdown",
   "id": "6aaeb571-478f-4ea3-a2bb-2e0edb44ea2e",
   "metadata": {},
   "source": [
    "Load and Fix the Dataset"
   ]
  },
  {
   "cell_type": "code",
   "execution_count": 80,
   "id": "780389d7-e0fb-4e4c-8f10-577b20b579e6",
   "metadata": {},
   "outputs": [],
   "source": [
    "from keras.datasets import fashion_mnist\n",
    "(train_X,train_Y), (test_X,test_Y) = fashion_mnist.load_data()"
   ]
  },
  {
   "cell_type": "code",
   "execution_count": 81,
   "id": "87ee6691-66e4-4c1a-b500-e51d553c312c",
   "metadata": {},
   "outputs": [
    {
     "name": "stdout",
     "output_type": "stream",
     "text": [
      "Training data shape :  (60000, 28, 28) (60000,)\n",
      "Testing data shape :  (10000, 28, 28) (10000,)\n"
     ]
    }
   ],
   "source": [
    "print('Training data shape : ', train_X.shape, train_Y.shape)\n",
    "\n",
    "print('Testing data shape : ', test_X.shape, test_Y.shape)\n",
    "\n"
   ]
  },
  {
   "cell_type": "code",
   "execution_count": 82,
   "id": "66ad1f57-b587-4b8c-a613-67b13a9db079",
   "metadata": {},
   "outputs": [
    {
     "name": "stdout",
     "output_type": "stream",
     "text": [
      "Total number of outputs :  10\n",
      "Output classes :  [0 1 2 3 4 5 6 7 8 9]\n"
     ]
    }
   ],
   "source": [
    "# Find the unique numbers from the train labels\n",
    "classes = np.unique(train_Y)\n",
    "nClasses = len(classes)\n",
    "print('Total number of outputs : ', nClasses)\n",
    "print('Output classes : ', classes)"
   ]
  },
  {
   "cell_type": "code",
   "execution_count": 83,
   "id": "548a86c1-3267-4982-a568-309aabb7829d",
   "metadata": {},
   "outputs": [
    {
     "data": {
      "text/plain": [
       "Text(0.5, 1.0, 'Ground Truth : 9')"
      ]
     },
     "execution_count": 83,
     "metadata": {},
     "output_type": "execute_result"
    },
    {
     "data": {
      "image/png": "[encoded data removed]",
      "text/plain": [
       "<Figure size 500x500 with 2 Axes>"
      ]
     },
     "metadata": {},
     "output_type": "display_data"
    }
   ],
   "source": [
    "plt.figure(figsize=[5,5])\n",
    "\n",
    "# Display the first image in training data\n",
    "plt.subplot(121)\n",
    "plt.imshow(train_X[0,:,:], cmap='gray')\n",
    "plt.title(\"Ground Truth : {}\".format(train_Y[0]))\n",
    "\n",
    "# Display the first image in testing data\n",
    "plt.subplot(122)\n",
    "plt.imshow(test_X[0,:,:], cmap='gray')\n",
    "plt.title(\"Ground Truth : {}\".format(test_Y[0]))"
   ]
  },
  {
   "cell_type": "markdown",
   "id": "1f175e0b-eb81-402e-8399-cd7f522c2ed2",
   "metadata": {},
   "source": [
    "Preprocess the Data"
   ]
  },
  {
   "cell_type": "code",
   "execution_count": 84,
   "id": "27970dbe-408e-4492-8433-1a4c8d1450a7",
   "metadata": {},
   "outputs": [
    {
     "data": {
      "text/plain": [
       "((60000, 28, 28, 1), (10000, 28, 28, 1))"
      ]
     },
     "execution_count": 84,
     "metadata": {},
     "output_type": "execute_result"
    }
   ],
   "source": [
    "train_X = train_X.reshape(-1, 28,28, 1) #set each image to size of matrix 28*28*1\n",
    "test_X = test_X.reshape(-1, 28,28, 1)\n",
    "train_X.shape, test_X.shape"
   ]
  },
  {
   "cell_type": "code",
   "execution_count": 85,
   "id": "d8f964c3-3b11-47a9-9b91-14a9c407a4a6",
   "metadata": {},
   "outputs": [],
   "source": [
    "#data is in integer 8 format, need to convert to float32\n",
    "#rescale the pixel values to only be in range 0-1\n",
    "train_X = train_X.astype('float32')\n",
    "test_X = test_X.astype('float32')\n",
    "train_X = train_X / 255. #normalise pixel values to be range 0-1\n",
    "test_X = test_X / 255."
   ]
  },
  {
   "cell_type": "code",
   "execution_count": 86,
   "id": "3e806fb5-94a0-4a59-a833-dd35266e8c3b",
   "metadata": {},
   "outputs": [
    {
     "name": "stdout",
     "output_type": "stream",
     "text": [
      "Original label: 9\n",
      "After conversion to one-hot: [0. 0. 0. 0. 0. 0. 0. 0. 0. 1.]\n"
     ]
    }
   ],
   "source": [
    "#convert the categories into a vector of numbers\n",
    "#machine learning algorithms cant work with this data directly\n",
    "#generate one boolean column for each category\n",
    "#row vector 1*10, 10 categories\n",
    "\n",
    "# Change the labels from categorical to one-hot encoding\n",
    "train_Y_one_hot = to_categorical(train_Y)\n",
    "test_Y_one_hot = to_categorical(test_Y)\n",
    "\n",
    "# Display the change for category label using one-hot encoding\n",
    "print('Original label:', train_Y[0])\n",
    "print('After conversion to one-hot:', train_Y_one_hot[0])"
   ]
  },
  {
   "cell_type": "code",
   "execution_count": 87,
   "id": "a4bc5281-adc9-48d3-8745-6fc959e2f56e",
   "metadata": {},
   "outputs": [],
   "source": [
    "#split training data \n",
    "#random parameter, ensures a random split generated each time the code is run\n",
    "from sklearn.model_selection import train_test_split\n",
    "train_X,valid_X,train_label,valid_label = train_test_split(train_X, train_Y_one_hot, test_size=0.2, random_state=13)"
   ]
  },
  {
   "cell_type": "code",
   "execution_count": 88,
   "id": "e596543f-0cb8-4330-b4aa-ed5672413a5b",
   "metadata": {},
   "outputs": [
    {
     "data": {
      "text/plain": [
       "((48000, 28, 28, 1), (12000, 28, 28, 1), (48000, 10), (12000, 10))"
      ]
     },
     "execution_count": 88,
     "metadata": {},
     "output_type": "execute_result"
    }
   ],
   "source": [
    "train_X.shape,valid_X.shape,train_label.shape,valid_label.shape"
   ]
  },
  {
   "cell_type": "markdown",
   "id": "558d2bc5-3e42-4cd8-a4fe-1631b4fec95f",
   "metadata": {},
   "source": [
    "Model : Convolution, Pooling and Fully Connected Layer"
   ]
  },
  {
   "cell_type": "code",
   "execution_count": 89,
   "id": "b400bea0-2a06-491d-abc7-edb89a7a7f46",
   "metadata": {},
   "outputs": [],
   "source": [
    "batch_size = 64  #number of samples during training\n",
    "epochs = 20 # number of times training is done\n",
    "num_classes = 10 #number of classes in the dataset (we have 10 categories therefore 10)"
   ]
  },
  {
   "cell_type": "code",
   "execution_count": 91,
   "id": "514f3f16-291f-46c9-b8a1-e2b5e2ff0b55",
   "metadata": {},
   "outputs": [],
   "source": [
    "fashion_model = Sequential()\n",
    "\n",
    "#add the first convulutional layer\n",
    "#kernel 3*3, linear activation function, 32 filters\n",
    "fashion_model.add(Conv2D(32, kernel_size=(3, 3),activation='linear',input_shape=(28,28,1),padding='same'))\n",
    "#uses leaky relu, interesting, with learning rate 0.1\n",
    "fashion_model.add(LeakyReLU(alpha=0.1))\n",
    "#pooling layer, 2*2 matrix, max values\n",
    "fashion_model.add(MaxPooling2D((2, 2),padding='same'))\n",
    "\n",
    "#add the second convulutional layer\n",
    "#64 layers, 3*3, linear function\n",
    "fashion_model.add(Conv2D(64, (3, 3), activation='linear',padding='same'))\n",
    "fashion_model.add(LeakyReLU(alpha=0.1))\n",
    "fashion_model.add(MaxPooling2D(pool_size=(2, 2),padding='same'))\n",
    "\n",
    "#add the 3rd convulutional layer\n",
    "#128 layers, 3*3 matrix, linear\n",
    "fashion_model.add(Conv2D(128, (3, 3), activation='linear',padding='same'))\n",
    "fashion_model.add(LeakyReLU(alpha=0.1))                  \n",
    "fashion_model.add(MaxPooling2D(pool_size=(2, 2),padding='same'))\n",
    "\n",
    "#flatten the vector for the fcl\n",
    "fashion_model.add(Flatten())\n",
    "#dense layer (fully-connected), uses linear, 128 layers\n",
    "fashion_model.add(Dense(128, activation='linear'))\n",
    "fashion_model.add(LeakyReLU(alpha=0.1))   \n",
    "\n",
    "#dense final layer, uses number of classes, in this case 10\n",
    "#uses softmax function to determine the probabilities\n",
    "fashion_model.add(Dense(num_classes, activation='softmax'))\n",
    "\n",
    "#common loss function used, dam optmizer, adapts learning rate during training\n",
    "fashion_model.compile(loss=categorical_crossentropy, optimizer=Adam(),metrics=['accuracy'])"
   ]
  },
  {
   "cell_type": "code",
   "execution_count": 92,
   "id": "fcc64cbb-27cb-4343-beae-2b43d1fe65ab",
   "metadata": {},
   "outputs": [
    {
     "name": "stdout",
     "output_type": "stream",
     "text": [
      "Model: \"sequential_5\"\n",
      "_________________________________________________________________\n",
      " Layer (type)                Output Shape              Param #   \n",
      "=================================================================\n",
      " conv2d_15 (Conv2D)          (None, 28, 28, 32)        320       \n",
      "                                                                 \n",
      " leaky_re_lu_20 (LeakyReLU)  (None, 28, 28, 32)        0         \n",
      "                                                                 \n",
      " max_pooling2d_15 (MaxPoolin  (None, 14, 14, 32)       0         \n",
      " g2D)                                                            \n",
      "                                                                 \n",
      " conv2d_16 (Conv2D)          (None, 14, 14, 64)        18496     \n",
      "                                                                 \n",
      " leaky_re_lu_21 (LeakyReLU)  (None, 14, 14, 64)        0         \n",
      "                                                                 \n",
      " max_pooling2d_16 (MaxPoolin  (None, 7, 7, 64)         0         \n",
      " g2D)                                                            \n",
      "                                                                 \n",
      " conv2d_17 (Conv2D)          (None, 7, 7, 128)         73856     \n",
      "                                                                 \n",
      " leaky_re_lu_22 (LeakyReLU)  (None, 7, 7, 128)         0         \n",
      "                                                                 \n",
      " max_pooling2d_17 (MaxPoolin  (None, 4, 4, 128)        0         \n",
      " g2D)                                                            \n",
      "                                                                 \n",
      " flatten_5 (Flatten)         (None, 2048)              0         \n",
      "                                                                 \n",
      " dense_10 (Dense)            (None, 128)               262272    \n",
      "                                                                 \n",
      " leaky_re_lu_23 (LeakyReLU)  (None, 128)               0         \n",
      "                                                                 \n",
      " dense_11 (Dense)            (None, 10)                1290      \n",
      "                                                                 \n",
      "=================================================================\n",
      "Total params: 356,234\n",
      "Trainable params: 356,234\n",
      "Non-trainable params: 0\n",
      "_________________________________________________________________\n"
     ]
    }
   ],
   "source": [
    "fashion_model.summary()"
   ]
  },
  {
   "cell_type": "markdown",
   "id": "de569e85-43c9-48e6-9992-05d46d14a16a",
   "metadata": {},
   "source": [
    "Train the Model"
   ]
  },
  {
   "cell_type": "code",
   "execution_count": 94,
   "id": "5315e08d-9c74-4a85-879f-df525bfde2af",
   "metadata": {},
   "outputs": [
    {
     "name": "stdout",
     "output_type": "stream",
     "text": [
      "Epoch 1/20\n",
      "750/750 [==============================] - 20s 27ms/step - loss: 0.3233 - accuracy: 0.8845 - val_loss: 0.2931 - val_accuracy: 0.8928\n",
      "Epoch 2/20\n",
      "750/750 [==============================] - 20s 27ms/step - loss: 0.2592 - accuracy: 0.9057 - val_loss: 0.2475 - val_accuracy: 0.9101\n",
      "Epoch 3/20\n",
      "750/750 [==============================] - 19s 26ms/step - loss: 0.2213 - accuracy: 0.9183 - val_loss: 0.2442 - val_accuracy: 0.9120\n",
      "Epoch 4/20\n",
      "750/750 [==============================] - 20s 26ms/step - loss: 0.1933 - accuracy: 0.9288 - val_loss: 0.2546 - val_accuracy: 0.9074\n",
      "Epoch 5/20\n",
      "750/750 [==============================] - 19s 25ms/step - loss: 0.1681 - accuracy: 0.9368 - val_loss: 0.2291 - val_accuracy: 0.9174\n",
      "Epoch 6/20\n",
      "750/750 [==============================] - 19s 26ms/step - loss: 0.1481 - accuracy: 0.9446 - val_loss: 0.2323 - val_accuracy: 0.9222\n",
      "Epoch 7/20\n",
      "750/750 [==============================] - 19s 26ms/step - loss: 0.1275 - accuracy: 0.9521 - val_loss: 0.2571 - val_accuracy: 0.9153\n",
      "Epoch 8/20\n",
      "750/750 [==============================] - 19s 26ms/step - loss: 0.1080 - accuracy: 0.9589 - val_loss: 0.2572 - val_accuracy: 0.9184\n",
      "Epoch 9/20\n",
      "750/750 [==============================] - 20s 27ms/step - loss: 0.0939 - accuracy: 0.9655 - val_loss: 0.2563 - val_accuracy: 0.9212\n",
      "Epoch 10/20\n",
      "750/750 [==============================] - 20s 26ms/step - loss: 0.0805 - accuracy: 0.9698 - val_loss: 0.2887 - val_accuracy: 0.9144\n",
      "Epoch 11/20\n",
      "750/750 [==============================] - 20s 26ms/step - loss: 0.0696 - accuracy: 0.9741 - val_loss: 0.2932 - val_accuracy: 0.9237\n",
      "Epoch 12/20\n",
      "750/750 [==============================] - 19s 26ms/step - loss: 0.0595 - accuracy: 0.9771 - val_loss: 0.3324 - val_accuracy: 0.9138\n",
      "Epoch 13/20\n",
      "750/750 [==============================] - 20s 27ms/step - loss: 0.0505 - accuracy: 0.9813 - val_loss: 0.3460 - val_accuracy: 0.9200\n",
      "Epoch 14/20\n",
      "750/750 [==============================] - 19s 26ms/step - loss: 0.0515 - accuracy: 0.9801 - val_loss: 0.3555 - val_accuracy: 0.9151\n",
      "Epoch 15/20\n",
      "750/750 [==============================] - 19s 26ms/step - loss: 0.0381 - accuracy: 0.9860 - val_loss: 0.3906 - val_accuracy: 0.9231\n",
      "Epoch 16/20\n",
      "750/750 [==============================] - 19s 25ms/step - loss: 0.0359 - accuracy: 0.9871 - val_loss: 0.4338 - val_accuracy: 0.9217\n",
      "Epoch 17/20\n",
      "750/750 [==============================] - 19s 25ms/step - loss: 0.0371 - accuracy: 0.9862 - val_loss: 0.4139 - val_accuracy: 0.9194\n",
      "Epoch 18/20\n",
      "750/750 [==============================] - 20s 26ms/step - loss: 0.0374 - accuracy: 0.9860 - val_loss: 0.4397 - val_accuracy: 0.9206\n",
      "Epoch 19/20\n",
      "750/750 [==============================] - 19s 26ms/step - loss: 0.0316 - accuracy: 0.9876 - val_loss: 0.4503 - val_accuracy: 0.9216\n",
      "Epoch 20/20\n",
      "750/750 [==============================] - 19s 25ms/step - loss: 0.0271 - accuracy: 0.9901 - val_loss: 0.4769 - val_accuracy: 0.9160\n"
     ]
    }
   ],
   "source": [
    "#uses fit method, trains the model on the train x and train label data\n",
    "#returns a History object, this contains the information such as loss and accuracy which we can graph\n",
    "#batch size specifies the number of samples per gradient update\n",
    "#epoch is the number of times the test is done\n",
    "#validation data specifies the data on which to evaluate the loss and any model metrics at the end of each epoch\n",
    "#evaluates the data against the valid data\n",
    "fashion_train = fashion_model.fit(train_X, train_label, batch_size=batch_size,epochs=epochs,verbose=1,validation_data=(valid_X, valid_label))"
   ]
  },
  {
   "cell_type": "code",
   "execution_count": null,
   "id": "eaf9e5cf-7e22-4465-a849-4da30453400f",
   "metadata": {},
   "outputs": [],
   "source": []
  }
 ],
 "metadata": {
  "kernelspec": {
   "display_name": "Josh",
   "language": "python",
   "name": "practice"
  },
  "language_info": {
   "codemirror_mode": {
    "name": "ipython",
    "version": 3
   },
   "file_extension": ".py",
   "mimetype": "text/x-python",
   "name": "python",
   "nbconvert_exporter": "python",
   "pygments_lexer": "ipython3",
   "version": "3.10.13"
  }
 },
 "nbformat": 4,
 "nbformat_minor": 5
}
